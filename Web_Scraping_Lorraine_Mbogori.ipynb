{
  "nbformat": 4,
  "nbformat_minor": 0,
  "metadata": {
    "colab": {
      "name": "Web Scraping - Lorraine Mbogori",
      "provenance": [],
      "collapsed_sections": [],
      "include_colab_link": true
    },
    "kernelspec": {
      "name": "python3",
      "display_name": "Python 3"
    }
  },
  "cells": [
    {
      "cell_type": "markdown",
      "metadata": {
        "id": "view-in-github",
        "colab_type": "text"
      },
      "source": [
        "<a href=\"https://colab.research.google.com/github/MbogoriL/hello-world/blob/master/Web_Scraping_Lorraine_Mbogori.ipynb\" target=\"_parent\"><img src=\"https://colab.research.google.com/assets/colab-badge.svg\" alt=\"Open In Colab\"/></a>"
      ]
    },
    {
      "cell_type": "markdown",
      "metadata": {
        "id": "7i5A-UY4Yruf"
      },
      "source": [
        "<font color='#2F4F4F'>To use this notebook on Colaboratory, you will need to make a copy of it. Go to File > Save a Copy in Drive. You can then use the new copy that will appear in the new tab.</font>\n"
      ]
    },
    {
      "cell_type": "markdown",
      "metadata": {
        "id": "0rOdcI2Nzhky"
      },
      "source": [
        "# <font color='#2F4F4F'>AfterWork Data Science: Web Scraping with Python</font>"
      ]
    },
    {
      "cell_type": "markdown",
      "metadata": {
        "id": "Tcso2rJCNAGq"
      },
      "source": [
        "## <font color='#2F4F4F'>Prerequisites</font>"
      ]
    },
    {
      "cell_type": "code",
      "metadata": {
        "id": "QSHljMZTNCRI"
      },
      "source": [
        "# Import the required libraries\n",
        "# ---\n",
        "#\n",
        "import pandas as pd             # library for data manupation\n",
        "import requests                 # library for fetching a web page \n",
        "from bs4 import BeautifulSoup   # library for extrating contents from a webpage "
      ],
      "execution_count": null,
      "outputs": []
    },
    {
      "cell_type": "markdown",
      "metadata": {
        "id": "CRmt1rRHgZRG"
      },
      "source": [
        "## <font color='#2F4F4F'>Step 1: Obtaining our Data</font>"
      ]
    },
    {
      "cell_type": "code",
      "metadata": {
        "id": "cM5TKD-P1h7Z",
        "colab": {
          "base_uri": "https://localhost:8080/"
        },
        "outputId": "029b6efb-a3e5-482a-f077-1ef4cd2b71da"
      },
      "source": [
        "# PigiaMe: https://www.pigiame.co.ke/it-software-jobs\n",
        "# ---\n",
        "#\n",
        "pigia_me = requests.get('https://www.pigiame.co.ke/it-software-jobs')\n",
        "pigia_me"
      ],
      "execution_count": null,
      "outputs": [
        {
          "output_type": "execute_result",
          "data": {
            "text/plain": [
              "<Response [200]>"
            ]
          },
          "metadata": {},
          "execution_count": 3
        }
      ]
    },
    {
      "cell_type": "code",
      "metadata": {
        "id": "OfUvfxrD1nQC",
        "colab": {
          "base_uri": "https://localhost:8080/"
        },
        "outputId": "793626a4-9065-431c-9ee6-24a989a57cbd"
      },
      "source": [
        "# MyJobMag: https://www.myjobmag.co.ke/jobs-by-field/information-technology\n",
        "# ---\n",
        "#\n",
        "job_mag = requests.get('https://www.myjobmag.co.ke/jobs-by-field/information-technology')\n",
        "job_mag"
      ],
      "execution_count": null,
      "outputs": [
        {
          "output_type": "execute_result",
          "data": {
            "text/plain": [
              "<Response [200]>"
            ]
          },
          "metadata": {},
          "execution_count": 2
        }
      ]
    },
    {
      "cell_type": "code",
      "metadata": {
        "id": "psWrYhRUQDJC",
        "colab": {
          "base_uri": "https://localhost:8080/"
        },
        "outputId": "709cf1e4-29ca-4c11-f9b9-a4dd6f644496"
      },
      "source": [
        "# KenyanJob: https://www.kenyajob.com/job-vacancies-search-kenya?f%5B0%5D=im_field_offre_secteur%3A133\n",
        "# ---\n",
        "#\n",
        "kenyan_job = requests.get('https://www.kenyajob.com/job-vacancies-search-kenya?f%5B0%5D=im_field_offre_secteur%3A133')\n",
        "kenyan_job"
      ],
      "execution_count": null,
      "outputs": [
        {
          "output_type": "execute_result",
          "data": {
            "text/plain": [
              "<Response [200]>"
            ]
          },
          "metadata": {},
          "execution_count": 4
        }
      ]
    },
    {
      "cell_type": "markdown",
      "metadata": {
        "id": "h7iRb8U8hHNw"
      },
      "source": [
        "## <font color='#2F4F4F'>Step 2: Parsing</font>"
      ]
    },
    {
      "cell_type": "code",
      "metadata": {
        "id": "AXWSK1kD2oeN"
      },
      "source": [
        "# Parsing our document: pigia_me\n",
        "# ---\n",
        "# \n",
        "soup_pm = BeautifulSoup(pigia_me.text, \"html.parser\")"
      ],
      "execution_count": null,
      "outputs": []
    },
    {
      "cell_type": "code",
      "metadata": {
        "id": "lrH9mgR82pzg"
      },
      "source": [
        "# Parsing our document: my_job_mag\n",
        "# ---\n",
        "#  \n",
        "soup_jm = BeautifulSoup(job_mag.text, \"html.parser\")"
      ],
      "execution_count": null,
      "outputs": []
    },
    {
      "cell_type": "code",
      "metadata": {
        "id": "O0x-Wz03QP5O"
      },
      "source": [
        "# Parsing our document: kenyan_job\n",
        "# ---\n",
        "# \n",
        "soup_kj = BeautifulSoup(kenyan_job.text, \"html.parser\")"
      ],
      "execution_count": null,
      "outputs": []
    },
    {
      "cell_type": "markdown",
      "metadata": {
        "id": "_OxuOAIXhPl5"
      },
      "source": [
        "## <font color='#2F4F4F'>Step 3: Extracting Required Elements</font>"
      ]
    },
    {
      "cell_type": "code",
      "metadata": {
        "id": "e2p147_LICKn",
        "colab": {
          "base_uri": "https://localhost:8080/"
        },
        "outputId": "b29145e6-f85b-4b7e-a9dc-918bfdbfe707"
      },
      "source": [
        "# 1. Extracting job titles and links: pigia me\n",
        "# ---\n",
        "#\n",
        "results = soup_pm.find_all('a', {'class':'listing-card__inner'})\n",
        "\n",
        "#results[0].get_text()\n",
        "\n",
        "job_titles = []\n",
        "job_links =[]\n",
        "\n",
        "for result in results:\n",
        "  title = result.get('data-t-listing_title')\n",
        "  link = result.get('href')\n",
        "\n",
        "  job_titles.append(title)\n",
        "  job_links.append(link)\n",
        "\n",
        "job_titles[0:5]"
      ],
      "execution_count": null,
      "outputs": [
        {
          "output_type": "execute_result",
          "data": {
            "text/plain": [
              "[<a class=\"listing-card__inner\" data-t-listing=\"\" data-t-listing_category_slug=\"it-software-jobs\" data-t-listing_category_title=\"IT &amp; Software Jobs\" data-t-listing_context=\"search\" data-t-listing_currency=\"\" data-t-listing_id=\"3863818\" data-t-listing_location_title=\"Nairobi CBD\" data-t-listing_price=\"0\" data-t-listing_product_slugs=\"listing\" data-t-listing_slug=\"business-analyst\" data-t-listing_source=\"bm_ke\" data-t-listing_title=\"Business Analyst\" data-t-listing_type=\"classified\" href=\"https://www.pigiame.co.ke/listings/business-analyst-3863818\" id=\"listing-3863818\"><div class=\"listing-card__aside\"><div class=\"listing-card__image\"><div class=\"listing-card__image__inner-container\"><svg aria-hidden=\"true\" class=\"i i-jobs listing-card__image__placeholder\"><use xlink:href=\"https://www.pigiame.co.ke/assets/pi-site/icons/category.100b12f8.svg#jobs\"></use></svg><svg aria-hidden=\"true\" class=\"i i-bm_ke listing-card__image__placeholder listing-card__image__placeholder--scs\"><use xlink:href=\"https://www.pigiame.co.ke/assets/pi-site/icons/scs.391fdd56.svg#bm_ke\"></use></svg></div></div></div><div class=\"listing-card__content\"><div class=\"listing-card__content__inner\"><div class=\"listing-card__header\"><div class=\"listing-card__header-content\"><div class=\"listing-card__header__title\">\n",
              " Business Analyst\n",
              " </div><div class=\"listing-card__header__tags\"><span class=\"listing-card__header__tags__item listing-card__header__tags__item--work-type listing-card__header__tags__item--work-type_full-time\">Full time</span><span class=\"listing-card__header__tags__item listing-card__header__tags__item--employer listing-card__header__tags__item--employer_kcb-bank-kenya\">KCB Bank Kenya</span></div><div class=\"listing-card__header__location\"><svg aria-hidden=\"true\" class=\"i i-gmaps \"><use xlink:href=\"https://www.pigiame.co.ke/assets/pi-site/icons/map.c8b05538.svg#gmaps\"></use></svg>\n",
              " Nairobi CBD,\n",
              " Nairobi\n",
              " </div></div></div><div class=\"listing-card__date-line\"><div class=\"listing-card__header__date\">\n",
              " Today, 15:39\n",
              " </div></div></div></div></a>,\n",
              " <a class=\"listing-card__inner\" data-t-listing=\"\" data-t-listing_category_slug=\"it-software-jobs\" data-t-listing_category_title=\"IT &amp; Software Jobs\" data-t-listing_context=\"search\" data-t-listing_currency=\"\" data-t-listing_id=\"3861115\" data-t-listing_location_title=\"Nairobi CBD\" data-t-listing_price=\"0\" data-t-listing_product_slugs=\"listing\" data-t-listing_slug=\"principal-business-analyst\" data-t-listing_source=\"bm_ke\" data-t-listing_title=\"PRINCIPAL BUSINESS ANALYST\" data-t-listing_type=\"classified\" href=\"https://www.pigiame.co.ke/listings/principal-business-analyst-3861115\" id=\"listing-3861115\"><div class=\"listing-card__aside\"><div class=\"listing-card__image\"><div class=\"listing-card__image__inner-container\"><svg aria-hidden=\"true\" class=\"i i-jobs listing-card__image__placeholder\"><use xlink:href=\"https://www.pigiame.co.ke/assets/pi-site/icons/category.100b12f8.svg#jobs\"></use></svg><svg aria-hidden=\"true\" class=\"i i-bm_ke listing-card__image__placeholder listing-card__image__placeholder--scs\"><use xlink:href=\"https://www.pigiame.co.ke/assets/pi-site/icons/scs.391fdd56.svg#bm_ke\"></use></svg></div></div></div><div class=\"listing-card__content\"><div class=\"listing-card__content__inner\"><div class=\"listing-card__header\"><div class=\"listing-card__header-content\"><div class=\"listing-card__header__title\">\n",
              " PRINCIPAL BUSINESS ANALYST\n",
              " </div><div class=\"listing-card__header__tags\"><span class=\"listing-card__header__tags__item listing-card__header__tags__item--work-type listing-card__header__tags__item--work-type_full-time\">Full time</span><span class=\"listing-card__header__tags__item listing-card__header__tags__item--employer listing-card__header__tags__item--employer_safaricom\">Safaricom</span></div><div class=\"listing-card__header__location\"><svg aria-hidden=\"true\" class=\"i i-gmaps \"><use xlink:href=\"https://www.pigiame.co.ke/assets/pi-site/icons/map.c8b05538.svg#gmaps\"></use></svg>\n",
              " Nairobi CBD,\n",
              " Nairobi\n",
              " </div></div></div><div class=\"listing-card__date-line\"><div class=\"listing-card__header__date\">\n",
              " Yesterday, 18:55\n",
              " </div></div></div></div></a>,\n",
              " <a class=\"listing-card__inner\" data-t-listing=\"\" data-t-listing_category_slug=\"it-software-jobs\" data-t-listing_category_title=\"IT &amp; Software Jobs\" data-t-listing_context=\"search\" data-t-listing_currency=\"\" data-t-listing_id=\"3861106\" data-t-listing_location_title=\"Nairobi CBD\" data-t-listing_price=\"0\" data-t-listing_product_slugs=\"listing\" data-t-listing_slug=\"lead-data-scientist\" data-t-listing_source=\"bm_ke\" data-t-listing_title=\"Lead Data Scientist\" data-t-listing_type=\"classified\" href=\"https://www.pigiame.co.ke/listings/lead-data-scientist-3861106\" id=\"listing-3861106\"><div class=\"listing-card__aside\"><div class=\"listing-card__image\"><div class=\"listing-card__image__inner-container\"><svg aria-hidden=\"true\" class=\"i i-jobs listing-card__image__placeholder\"><use xlink:href=\"https://www.pigiame.co.ke/assets/pi-site/icons/category.100b12f8.svg#jobs\"></use></svg><svg aria-hidden=\"true\" class=\"i i-bm_ke listing-card__image__placeholder listing-card__image__placeholder--scs\"><use xlink:href=\"https://www.pigiame.co.ke/assets/pi-site/icons/scs.391fdd56.svg#bm_ke\"></use></svg></div></div></div><div class=\"listing-card__content\"><div class=\"listing-card__content__inner\"><div class=\"listing-card__header\"><div class=\"listing-card__header-content\"><div class=\"listing-card__header__title\">\n",
              " Lead Data Scientist\n",
              " </div><div class=\"listing-card__header__tags\"><span class=\"listing-card__header__tags__item listing-card__header__tags__item--work-type listing-card__header__tags__item--work-type_full-time\">Full time</span><span class=\"listing-card__header__tags__item listing-card__header__tags__item--employer listing-card__header__tags__item--employer_safaricom\">Safaricom</span></div><div class=\"listing-card__header__location\"><svg aria-hidden=\"true\" class=\"i i-gmaps \"><use xlink:href=\"https://www.pigiame.co.ke/assets/pi-site/icons/map.c8b05538.svg#gmaps\"></use></svg>\n",
              " Nairobi CBD,\n",
              " Nairobi\n",
              " </div></div></div><div class=\"listing-card__date-line\"><div class=\"listing-card__header__date\">\n",
              " Yesterday, 18:51\n",
              " </div></div></div></div></a>,\n",
              " <a class=\"listing-card__inner\" data-t-listing=\"\" data-t-listing_category_slug=\"it-software-jobs\" data-t-listing_category_title=\"IT &amp; Software Jobs\" data-t-listing_context=\"search\" data-t-listing_currency=\"\" data-t-listing_id=\"3857214\" data-t-listing_location_title=\"Nairobi CBD\" data-t-listing_price=\"0\" data-t-listing_product_slugs=\"listing\" data-t-listing_slug=\"graphic-designerit-specialist\" data-t-listing_source=\"bm_ke\" data-t-listing_title=\"Graphic Designer/IT Specialist\" data-t-listing_type=\"classified\" href=\"https://www.pigiame.co.ke/listings/graphic-designerit-specialist-3857214\" id=\"listing-3857214\"><div class=\"listing-card__aside\"><div class=\"listing-card__image\"><div class=\"listing-card__image__inner-container\"><svg aria-hidden=\"true\" class=\"i i-jobs listing-card__image__placeholder\"><use xlink:href=\"https://www.pigiame.co.ke/assets/pi-site/icons/category.100b12f8.svg#jobs\"></use></svg><svg aria-hidden=\"true\" class=\"i i-bm_ke listing-card__image__placeholder listing-card__image__placeholder--scs\"><use xlink:href=\"https://www.pigiame.co.ke/assets/pi-site/icons/scs.391fdd56.svg#bm_ke\"></use></svg></div></div></div><div class=\"listing-card__content\"><div class=\"listing-card__content__inner\"><div class=\"listing-card__header\"><div class=\"listing-card__header-content\"><div class=\"listing-card__header__title\">\n",
              " Graphic Designer/IT Specialist\n",
              " </div><div class=\"listing-card__header__tags\"><span class=\"listing-card__header__tags__item listing-card__header__tags__item--work-type listing-card__header__tags__item--work-type_contract\">Contract</span><span class=\"listing-card__header__tags__item listing-card__header__tags__item--employer listing-card__header__tags__item--employer_maestro-homes-ltd\">Maestro Homes Ltd</span></div><div class=\"listing-card__header__location\"><svg aria-hidden=\"true\" class=\"i i-gmaps \"><use xlink:href=\"https://www.pigiame.co.ke/assets/pi-site/icons/map.c8b05538.svg#gmaps\"></use></svg>\n",
              "  Nairobi CBD,\n",
              " Nairobi\n",
              " </div></div></div><div class=\"listing-card__date-line\"><div class=\"listing-card__header__date\">\n",
              " Thursday, 17:36\n",
              " </div></div><div class=\"listing-card__info-bar\"><div class=\"listing-card__info-bar__price\"><span class=\"listing-card__price\"><span class=\"listing-card__price__value\">\n",
              " KES 30,001 - KES 45,000\n",
              " </span></span></div></div></div></div></a>,\n",
              " <a class=\"listing-card__inner\" data-t-listing=\"\" data-t-listing_category_slug=\"it-software-jobs\" data-t-listing_category_title=\"IT &amp; Software Jobs\" data-t-listing_context=\"search\" data-t-listing_currency=\"\" data-t-listing_id=\"3857568\" data-t-listing_location_title=\"Nairobi CBD\" data-t-listing_price=\"0\" data-t-listing_product_slugs=\"listing\" data-t-listing_slug=\"database-administrator\" data-t-listing_source=\"bm_ke\" data-t-listing_title=\"Database Administrator\" data-t-listing_type=\"classified\" href=\"https://www.pigiame.co.ke/listings/database-administrator-3857568\" id=\"listing-3857568\"><div class=\"listing-card__aside\"><div class=\"listing-card__image\"><div class=\"listing-card__image__inner-container\"><svg aria-hidden=\"true\" class=\"i i-jobs listing-card__image__placeholder\"><use xlink:href=\"https://www.pigiame.co.ke/assets/pi-site/icons/category.100b12f8.svg#jobs\"></use></svg><svg aria-hidden=\"true\" class=\"i i-bm_ke listing-card__image__placeholder listing-card__image__placeholder--scs\"><use xlink:href=\"https://www.pigiame.co.ke/assets/pi-site/icons/scs.391fdd56.svg#bm_ke\"></use></svg></div></div></div><div class=\"listing-card__content\"><div class=\"listing-card__content__inner\"><div class=\"listing-card__header\"><div class=\"listing-card__header-content\"><div class=\"listing-card__header__title\">\n",
              " Database Administrator\n",
              " </div><div class=\"listing-card__header__tags\"><span class=\"listing-card__header__tags__item listing-card__header__tags__item--work-type listing-card__header__tags__item--work-type_full-time\">Full time</span><span class=\"listing-card__header__tags__item listing-card__header__tags__item--employer listing-card__header__tags__item--employer_britam\">Britam</span></div><div class=\"listing-card__header__location\"><svg aria-hidden=\"true\" class=\"i i-gmaps \"><use xlink:href=\"https://www.pigiame.co.ke/assets/pi-site/icons/map.c8b05538.svg#gmaps\"></use></svg>\n",
              " Nairobi CBD,\n",
              " Nairobi\n",
              " </div></div></div><div class=\"listing-card__date-line\"><div class=\"listing-card__header__date\">\n",
              " Thursday, 17:06\n",
              " </div></div></div></div></a>,\n",
              " <a class=\"listing-card__inner\" data-t-listing=\"\" data-t-listing_category_slug=\"it-software-jobs\" data-t-listing_category_title=\"IT &amp; Software Jobs\" data-t-listing_context=\"search\" data-t-listing_currency=\"\" data-t-listing_id=\"3857538\" data-t-listing_location_title=\"Nairobi CBD\" data-t-listing_price=\"0\" data-t-listing_product_slugs=\"listing\" data-t-listing_slug=\"it-apps-developer\" data-t-listing_source=\"bm_ke\" data-t-listing_title=\"IT Apps Developer\" data-t-listing_type=\"classified\" href=\"https://www.pigiame.co.ke/listings/it-apps-developer-3857538\" id=\"listing-3857538\"><div class=\"listing-card__aside\"><div class=\"listing-card__image\"><div class=\"listing-card__image__inner-container\"><svg aria-hidden=\"true\" class=\"i i-jobs listing-card__image__placeholder\"><use xlink:href=\"https://www.pigiame.co.ke/assets/pi-site/icons/category.100b12f8.svg#jobs\"></use></svg><svg aria-hidden=\"true\" class=\"i i-bm_ke listing-card__image__placeholder listing-card__image__placeholder--scs\"><use xlink:href=\"https://www.pigiame.co.ke/assets/pi-site/icons/scs.391fdd56.svg#bm_ke\"></use></svg></div></div></div><div class=\"listing-card__content\"><div class=\"listing-card__content__inner\"><div class=\"listing-card__header\"><div class=\"listing-card__header-content\"><div class=\"listing-card__header__title\">\n",
              " IT Apps Developer\n",
              " </div><div class=\"listing-card__header__tags\"><span class=\"listing-card__header__tags__item listing-card__header__tags__item--work-type listing-card__header__tags__item--work-type_full-time\">Full time</span><span class=\"listing-card__header__tags__item listing-card__header__tags__item--employer listing-card__header__tags__item--employer_britam\">Britam</span></div><div class=\"listing-card__header__location\"><svg aria-hidden=\"true\" class=\"i i-gmaps \"><use xlink:href=\"https://www.pigiame.co.ke/assets/pi-site/icons/map.c8b05538.svg#gmaps\"></use></svg>\n",
              " Nairobi CBD,\n",
              " Nairobi\n",
              " </div></div></div><div class=\"listing-card__date-line\"><div class=\"listing-card__header__date\">\n",
              " Thursday, 16:53\n",
              " </div></div></div></div></a>,\n",
              " <a class=\"listing-card__inner\" data-t-listing=\"\" data-t-listing_category_slug=\"it-software-jobs\" data-t-listing_category_title=\"IT &amp; Software Jobs\" data-t-listing_context=\"search\" data-t-listing_currency=\"\" data-t-listing_id=\"3857270\" data-t-listing_location_title=\"Nairobi CBD\" data-t-listing_price=\"0\" data-t-listing_product_slugs=\"listing\" data-t-listing_slug=\"junior-data-analyst-agriculture-nairobi-kenya\" data-t-listing_source=\"bm_ke\" data-t-listing_title=\"Junior Data Analyst (Agriculture) – Nairobi, Kenya\" data-t-listing_type=\"classified\" href=\"https://www.pigiame.co.ke/listings/junior-data-analyst-agriculture-nairobi-kenya-3857270\" id=\"listing-3857270\"><div class=\"listing-card__aside\"><div class=\"listing-card__image\"><div class=\"listing-card__image__inner-container\"><svg aria-hidden=\"true\" class=\"i i-jobs listing-card__image__placeholder\"><use xlink:href=\"https://www.pigiame.co.ke/assets/pi-site/icons/category.100b12f8.svg#jobs\"></use></svg><svg aria-hidden=\"true\" class=\"i i-bm_ke listing-card__image__placeholder listing-card__image__placeholder--scs\"><use xlink:href=\"https://www.pigiame.co.ke/assets/pi-site/icons/scs.391fdd56.svg#bm_ke\"></use></svg></div></div></div><div class=\"listing-card__content\"><div class=\"listing-card__content__inner\"><div class=\"listing-card__header\"><div class=\"listing-card__header-content\"><div class=\"listing-card__header__title\">\n",
              " Junior Data Analyst (Agriculture) – Nairobi, Kenya\n",
              " </div><div class=\"listing-card__header__tags\"><span class=\"listing-card__header__tags__item listing-card__header__tags__item--work-type listing-card__header__tags__item--work-type_full-time\">Full time</span><span class=\"listing-card__header__tags__item listing-card__header__tags__item--employer listing-card__header__tags__item--employer_summit-recruitment-search\">Summit Recruitment &amp; Search</span></div><div class=\"listing-card__header__location\"><svg aria-hidden=\"true\" class=\"i i-gmaps \"><use xlink:href=\"https://www.pigiame.co.ke/assets/pi-site/icons/map.c8b05538.svg#gmaps\"></use></svg>\n",
              " Nairobi CBD,\n",
              " Nairobi\n",
              " </div></div></div><div class=\"listing-card__date-line\"><div class=\"listing-card__header__date\">\n",
              " Thursday, 15:39\n",
              " </div></div></div></div></a>,\n",
              " <a class=\"listing-card__inner\" data-t-listing=\"\" data-t-listing_category_slug=\"it-software-jobs\" data-t-listing_category_title=\"IT &amp; Software Jobs\" data-t-listing_context=\"search\" data-t-listing_currency=\"\" data-t-listing_id=\"3849477\" data-t-listing_location_title=\"Nairobi CBD\" data-t-listing_price=\"0\" data-t-listing_product_slugs=\"listing\" data-t-listing_slug=\"software-systems-supervisor-urgent\" data-t-listing_source=\"bm_ke\" data-t-listing_title=\"Software Systems Supervisor - Urgent\" data-t-listing_type=\"classified\" href=\"https://www.pigiame.co.ke/listings/software-systems-supervisor-urgent-3849477\" id=\"listing-3849477\"><div class=\"listing-card__aside\"><div class=\"listing-card__image\"><div class=\"listing-card__image__inner-container\"><svg aria-hidden=\"true\" class=\"i i-jobs listing-card__image__placeholder\"><use xlink:href=\"https://www.pigiame.co.ke/assets/pi-site/icons/category.100b12f8.svg#jobs\"></use></svg><svg aria-hidden=\"true\" class=\"i i-bm_ke listing-card__image__placeholder listing-card__image__placeholder--scs\"><use xlink:href=\"https://www.pigiame.co.ke/assets/pi-site/icons/scs.391fdd56.svg#bm_ke\"></use></svg></div></div></div><div class=\"listing-card__content\"><div class=\"listing-card__content__inner\"><div class=\"listing-card__header\"><div class=\"listing-card__header-content\"><div class=\"listing-card__header__title\">\n",
              " Software Systems Supervisor - Urgent\n",
              " </div><div class=\"listing-card__header__tags\"><span class=\"listing-card__header__tags__item listing-card__header__tags__item--work-type listing-card__header__tags__item--work-type_full-time\">Full time</span><span class=\"listing-card__header__tags__item listing-card__header__tags__item--employer listing-card__header__tags__item--employer_skills-geographic\">Skills Geographic</span></div><div class=\"listing-card__header__location\"><svg aria-hidden=\"true\" class=\"i i-gmaps \"><use xlink:href=\"https://www.pigiame.co.ke/assets/pi-site/icons/map.c8b05538.svg#gmaps\"></use></svg>\n",
              " Nairobi CBD,\n",
              "  Nairobi\n",
              " </div></div></div><div class=\"listing-card__date-line\"><div class=\"listing-card__header__date\">\n",
              " Tuesday, 14:52\n",
              " </div></div></div></div></a>,\n",
              " <a class=\"listing-card__inner\" data-t-listing=\"\" data-t-listing_category_slug=\"it-software-jobs\" data-t-listing_category_title=\"IT &amp; Software Jobs\" data-t-listing_context=\"search\" data-t-listing_currency=\"\" data-t-listing_id=\"3846189\" data-t-listing_location_title=\"Nairobi CBD\" data-t-listing_price=\"0\" data-t-listing_product_slugs=\"listing\" data-t-listing_slug=\"junior-software-developer\" data-t-listing_source=\"bm_ke\" data-t-listing_title=\"Junior Software Developer\" data-t-listing_type=\"classified\" href=\"https://www.pigiame.co.ke/listings/junior-software-developer-3846189\" id=\"listing-3846189\"><div class=\"listing-card__aside\"><div class=\"listing-card__image\"><div class=\"listing-card__image__inner-container\"><svg aria-hidden=\"true\" class=\"i i-jobs listing-card__image__placeholder\"><use xlink:href=\"https://www.pigiame.co.ke/assets/pi-site/icons/category.100b12f8.svg#jobs\"></use></svg><svg aria-hidden=\"true\" class=\"i i-bm_ke listing-card__image__placeholder listing-card__image__placeholder--scs\"><use xlink:href=\"https://www.pigiame.co.ke/assets/pi-site/icons/scs.391fdd56.svg#bm_ke\"></use></svg></div></div></div><div class=\"listing-card__content\"><div class=\"listing-card__content__inner\"><div class=\"listing-card__header\"><div class=\"listing-card__header-content\"><div class=\"listing-card__header__title\">\n",
              " Junior Software Developer\n",
              " </div><div class=\"listing-card__header__tags\"><span class=\"listing-card__header__tags__item listing-card__header__tags__item--work-type listing-card__header__tags__item--work-type_full-time\">Full time</span><span class=\"listing-card__header__tags__item listing-card__header__tags__item--employer listing-card__header__tags__item--employer_infosight-technologies-ltd\">InfoSight Technologies Ltd</span></div><div class=\"listing-card__header__location\"><svg aria-hidden=\"true\" class=\"i i-gmaps \"><use xlink:href=\"https://www.pigiame.co.ke/assets/pi-site/icons/map.c8b05538.svg#gmaps\"></use></svg>\n",
              " Nairobi CBD,\n",
              " Nairobi\n",
              " </div></div></div><div class=\"listing-card__date-line\"><div class=\"listing-card__header__date\">\n",
              " Tuesday, 10:21\n",
              " </div></div><div class=\"listing-card__info-bar\"><div class=\"listing-card__info-bar__price\"><span class=\"listing-card__price\"><span class=\"listing-card__price__value\">\n",
              " KES 30,001 - KES 45,000\n",
              " </span></span></div></div></div></div></a>,\n",
              " <a class=\"listing-card__inner\" data-t-listing=\"\" data-t-listing_category_slug=\"it-software-jobs\" data-t-listing_category_title=\"IT &amp; Software Jobs\" data-t-listing_context=\"search\" data-t-listing_currency=\"\" data-t-listing_id=\"3844355\" data-t-listing_location_title=\"Nairobi CBD\" data-t-listing_price=\"0\" data-t-listing_product_slugs=\"listing\" data-t-listing_slug=\"business-analyst\" data-t-listing_source=\"bm_ke\" data-t-listing_title=\"Business Analyst\" data-t-listing_type=\"classified\" href=\"https://www.pigiame.co.ke/listings/business-analyst-3844355\" id=\"listing-3844355\"><div class=\"listing-card__aside\"><div class=\"listing-card__image\"><div class=\"listing-card__image__inner-container\"><svg aria-hidden=\"true\" class=\"i i-jobs listing-card__image__placeholder\"><use xlink:href=\"https://www.pigiame.co.ke/assets/pi-site/icons/category.100b12f8.svg#jobs\"></use></svg><svg aria-hidden=\"true\" class=\"i i-bm_ke listing-card__image__placeholder listing-card__image__placeholder--scs\"><use xlink:href=\"https://www.pigiame.co.ke/assets/pi-site/icons/scs.391fdd56.svg#bm_ke\"></use></svg></div></div></div><div class=\"listing-card__content\"><div class=\"listing-card__content__inner\"><div class=\"listing-card__header\"><div class=\"listing-card__header-content\"><div class=\"listing-card__header__title\">\n",
              " Business Analyst\n",
              " </div><div class=\"listing-card__header__tags\"><span class=\"listing-card__header__tags__item listing-card__header__tags__item--work-type listing-card__header__tags__item--work-type_full-time\">Full time</span><span class=\"listing-card__header__tags__item listing-card__header__tags__item--employer listing-card__header__tags__item--employer_brightermonday-consulting\">BrighterMonday Consulting</span></div><div class=\"listing-card__header__location\"><svg aria-hidden=\"true\" class=\"i i-gmaps \"><use xlink:href=\"https://www.pigiame.co.ke/assets/pi-site/icons/map.c8b05538.svg#gmaps\"></use></svg>\n",
              " Nairobi CBD,\n",
              " Nairobi\n",
              " </div></div></div><div class=\"listing-card__date-line\"><div class=\"listing-card__header__date\">\n",
              " Monday, 09:17\n",
              " </div></div></div></div></a>]"
            ]
          },
          "metadata": {},
          "execution_count": 9
        }
      ]
    },
    {
      "cell_type": "code",
      "metadata": {
        "id": "NNLbrng_3QfA",
        "colab": {
          "base_uri": "https://localhost:8080/"
        },
        "outputId": "b9b0ad09-825f-4390-ba46-25ce58d97721"
      },
      "source": [
        "# 2. Extracting job titles: my_job_mag\n",
        "# ---\n",
        "# \n",
        "#{'href': '/job//.(\\w+)'}\n",
        "pattern = '\\w+'\n",
        "jobmag_results = soup_jm.find_all('a')\n",
        "jobmag_results\n",
        "\n",
        "titles = []\n",
        "links = []\n",
        "\n",
        "for result in jobmag_results:\n",
        "  j_title = result.get('title')\n",
        "  j_link = result.get('href:/job/')\n",
        "\n",
        "  titles.append(j_title)\n",
        "  links.append(j_link)\n",
        "\n",
        "links[0:5]\n",
        "jobmag_results"
      ],
      "execution_count": null,
      "outputs": [
        {
          "output_type": "execute_result",
          "data": {
            "text/plain": [
              "[<a class=\"logo\" href=\"/\" id=\"d-site-logo\"><img alt=\"myjobmag logo\" height=\"38px\" src=\"/images/myjobmag-logo1.png\" width=\"126px\"/></a>,\n",
              " <a class=\"nav-a\" href=\"/employers/\">Employers, Post a Job</a>,\n",
              " <a class=\"nav-a\" href=\"/\" id=\"jobs-nav\">Jobs</a>,\n",
              " <a href=\"/jobs-by-field\">Jobs by Field</a>,\n",
              " <a href=\"/jobs-location\">Jobs by Location</a>,\n",
              " <a href=\"/jobs-by-education\">Jobs by Education</a>,\n",
              " <a href=\"/jobs-by-industry\">Jobs by Industry</a>,\n",
              " <a class=\"nav-a\" href=\"/blog\" id=\"get-advice-nav\">Get Advice</a>,\n",
              " <a href=\"/blog\">Career Advice</a>,\n",
              " <a href=\"/blog/category/hr-advice\">HR/Recruiter Advice</a>,\n",
              " <a href=\"/job-trends\">Job Trends</a>,\n",
              " <a class=\"nav-a\" href=\"/rewrite-services\" id=\"cv-services-nav\">CV Services</a>,\n",
              " <a class=\"nav-a\" href=\"https://www.mysalaryscale.com/ke\" id=\"salaries-nav\" target=\"_blank\">Salaries</a>,\n",
              " <a class=\"nav-a\" href=\"/employers/\" id=\"post-jobs-nav\">Post Jobs</a>,\n",
              " <a class=\"nav-a\" href=\"/employers/\">Post A Job / Recruit</a>,\n",
              " <a class=\"nav-a\" href=\"/login\" style=\" border:none\">Login</a>,\n",
              " <a class=\"nav-a\" href=\"/signup\" style=\" border:none\">Signup</a>,\n",
              " <a href=\"/login\" style=\" border-color:#FFF\">Login</a>,\n",
              " <a href=\"/signup\">Signup</a>,\n",
              " <a href=\"/employers/\" id=\"hd-emp-but\" title=\"Post a Job\">Employers</a>,\n",
              " <a href=\"https://www.myjobmagghana.com\" style=\"background-image:url(/pictures/flag/491801725_gh.jpg)\">Ghana</a>,\n",
              " <a href=\"https://www.myjobmag.co.ke\" style=\"background-image:url(/pictures/flag/435641681_kenya-flag.jpg)\">Kenya</a>,\n",
              " <a href=\"https://www.myjobmag.com\" style=\"background-image:url(/pictures/flag/865758178_nigerian-flag.jpg)\">Nigeria</a>,\n",
              " <a href=\"https://www.myjobmag.co.za\" style=\"background-image:url(/pictures/flag/419479899_south-africa-flag.jpg)\">South Africa</a>,\n",
              " <a class=\"mobile-search-icon\" href=\"javascript:;\" onclick=\"showSearchBox(1,this)\"> </a>,\n",
              " <a href=\"/\" id=\"mn-jobs\">Jobs</a>,\n",
              " <a href=\"/blog\" id=\"mn-advice\">Career Advice</a>,\n",
              " <a href=\"/signup\" id=\"mn-signup\" style=\" border-right:none\">Signup</a>,\n",
              " <a href=\"/jobs-at/shopit-store\"><img alt=\"ShopIt Store logo\" height=\"auto\" src=\"/company_logo/86/93580ShopIt.png\" title=\"ShopIt Store logo\" width=\"100%\"/></a>,\n",
              " <a href=\"/job/digital-marketing-shopit-store-1\">Digital Marketing at ShopIt Store</a>,\n",
              " <a href=\"/jobs-at/umba\"><img alt=\"Umba logo\" height=\"auto\" src=\"/company_logo/86/79090Umba.png\" title=\"Umba logo\" width=\"100%\"/></a>,\n",
              " <a href=\"/job/technology-and-product-officer-ky-umba\">Technology and Product Officer KY at Umba</a>,\n",
              " <a href=\"/jobs-at/cytonn-investments\"><img alt=\"Cytonn Investments logo\" height=\"auto\" src=\"/company_logo/86/4388cytonn-logo.png\" title=\"Cytonn Investments logo\" width=\"100%\"/></a>,\n",
              " <a href=\"/job/full-stack-software-engineer-php-cytonn-investments-4\">Full Stack Software Engineer (PHP) at Cytonn Investments</a>,\n",
              " <a href=\"/jobs-at/britam\"><img alt=\"Britam logo\" height=\"auto\" src=\"/company_logo/86/15295britam-logo.png\" title=\"Britam logo\" width=\"100%\"/></a>,\n",
              " <a href=\"/job/data-science-specialist-britam-1\">Data Science Specialist at Britam</a>,\n",
              " <a href=\"/jobs-at/safaricom-kenya\"><img alt=\"Safaricom Kenya logo\" height=\"auto\" src=\"/company_logo/86/6351safari.png\" title=\"Safaricom Kenya logo\" width=\"100%\"/></a>,\n",
              " <a href=\"/job/lead-sdet-channels-core-it-safaricom-kenya-1\">Lead SDET-Channels &amp; Core IT at Safaricom Kenya</a>,\n",
              " <a href=\"/jobs-at/safaricom-kenya\"><img alt=\"Safaricom Kenya logo\" height=\"auto\" src=\"/company_logo/86/6351safari.png\" title=\"Safaricom Kenya logo\" width=\"100%\"/></a>,\n",
              " <a href=\"/job/principal-business-analyst-safaricom-kenya\">Principal Business Analyst at Safaricom Kenya</a>,\n",
              " <a href=\"/jobs-at/safaricom-kenya\"><img alt=\"Safaricom Kenya logo\" height=\"auto\" src=\"/company_logo/86/6351safari.png\" title=\"Safaricom Kenya logo\" width=\"100%\"/></a>,\n",
              " <a href=\"/job/tech-lead-convergent-billing-system-planning-and-evolution-safaricom-kenya\">Tech Lead Convergent Billing System Planning and Evolution at Safaricom Kenya</a>,\n",
              " <a href=\"/jobs-at/safaricom-kenya\"><img alt=\"Safaricom Kenya logo\" height=\"auto\" src=\"/company_logo/86/6351safari.png\" title=\"Safaricom Kenya logo\" width=\"100%\"/></a>,\n",
              " <a href=\"/job/lead-data-scientist-safaricom-kenya-1\">Lead Data Scientist at Safaricom Kenya</a>,\n",
              " <a href=\"/jobs-at/kcb-bank-kenya\"><img alt=\"KCB Bank Kenya logo\" height=\"auto\" src=\"/company_logo/86/5276KCB Bank Kenya.png\" title=\"KCB Bank Kenya logo\" width=\"100%\"/></a>,\n",
              " <a href=\"/job/application-support-engineer-kcb-bank-kenya-2\">Application Support Engineer at KCB Bank Kenya</a>,\n",
              " <a href=\"/jobs-at/red-dot-distribution\"><img alt=\"Red Dot Distribution logo\" height=\"auto\" src=\"/company_logo/86/74424Red Dot Distribution.png\" title=\"Red Dot Distribution logo\" width=\"100%\"/></a>,\n",
              " <a href=\"/job/solutions-architect-red-dot-distribution\">Solutions Architect at Red Dot Distribution</a>,\n",
              " <a href=\"/jobs-at/musoni\"><img alt=\"Musoni logo\" height=\"auto\" src=\"/company_logo/86/56985Musoni.png\" title=\"Musoni logo\" width=\"100%\"/></a>,\n",
              " <a href=\"/job/system-analyst-musoni\">System Analyst at Musoni</a>,\n",
              " <a href=\"/jobs-at/fsd-africa\"><img alt=\"FSD Africa logo\" height=\"auto\" src=\"/company_logo/86/99773FSD Africa.jpg\" title=\"FSD Africa logo\" width=\"100%\"/></a>,\n",
              " <a href=\"/job/fsd-network-gender-manager-fsd-africa-1\">FSD Network Gender Manager at FSD Africa</a>,\n",
              " <a href=\"/jobs-at/microfundit-co\"><img alt=\"Microfundit Co logo\" height=\"auto\" src=\"/company_logo/86/89372Microfundit Co.png\" title=\"Microfundit Co logo\" width=\"100%\"/></a>,\n",
              " <a href=\"/job/intern-digital-communications-microfundit-co\">Intern, Digital Communications at Microfundit Co</a>,\n",
              " <a href=\"/jobs-at/safeboda\"><img alt=\"SafeBoda logo\" height=\"auto\" src=\"/company_logo/86/78351SafeBoda.jpg\" title=\"SafeBoda logo\" width=\"100%\"/></a>,\n",
              " <a href=\"/job/senior-elixir-back-end-developer-safeboda\">Senior Elixir Back End Developer at SafeBoda</a>,\n",
              " <a href=\"/jobs-at/microfundit-co\"><img alt=\"Microfundit Co logo\" height=\"auto\" src=\"/company_logo/86/89372Microfundit Co.png\" title=\"Microfundit Co logo\" width=\"100%\"/></a>,\n",
              " <a href=\"/job/intern-ui-ux-designer-microfundit-co\">Intern, UI/UX Designer at Microfundit Co</a>,\n",
              " <a href=\"/jobs-at/microfundit-co\"><img alt=\"Microfundit Co logo\" height=\"auto\" src=\"/company_logo/86/89372Microfundit Co.png\" title=\"Microfundit Co logo\" width=\"100%\"/></a>,\n",
              " <a href=\"/job/intern-full-stack-developer-microfundit-co-1\">Intern, Full Stack Developer at Microfundit Co</a>,\n",
              " <a href=\"/jobs-at/self-help-africa\"><img alt=\"Self Help Africa logo\" height=\"auto\" src=\"/company_logo/86/35356Self Help Africa.png\" title=\"Self Help Africa logo\" width=\"100%\"/></a>,\n",
              " <a href=\"/job/ict-intern-nairobi-self-help-africa\">ICT Intern (Nairobi) at Self Help Africa</a>,\n",
              " <a href=\"/jobs-at/kenya-wine-agencies-limited-kwal\"><img alt=\"Kenya Wine Agencies Limited (KWAL) logo\" height=\"auto\" src=\"/company_logo/86/91359Kwal-logo.png\" title=\"Kenya Wine Agencies Limited (KWAL) logo\" width=\"100%\"/></a>,\n",
              " <a href=\"/job/software-technician-kenya-wine-agencies-limited-kwal\">Software Technician at Kenya Wine Agencies Limited (KWAL)</a>,\n",
              " <a class=\"current_page\">1</a>,\n",
              " <a href=\"/jobs-by-field/information-technology/2\">2</a>,\n",
              " <a href=\"/jobs-by-field/information-technology/3\">3</a>,\n",
              " <a href=\"/jobs-by-field/information-technology/4\">4</a>,\n",
              " <a href=\"/jobs-by-field/information-technology/5\">5</a>,\n",
              " <a class=\"view-all-jobs bm-b-30\" href=\"/\">View All Jobs in Kenya Today</a>,\n",
              " <a href=\"/job/pa-to-ceo-and-bussiness-development-manager-home-universal\">PA to CEO and Business Development Manager at Kenya's Leading Real Estate Consortium</a>,\n",
              " <a href=\"/job/event-manager-home-universal\">Event Manager at Homes Uniiversal</a>,\n",
              " <a href=\"/job/security-business-development-manager-home-universal\">Security business development manager at Homes Uniiversal</a>,\n",
              " <a href=\"/job/construction-manager-home-universal\">Construction Manager at Kenya's Leading Real Estate Consortium</a>,\n",
              " <a href=\"/job/hr-and-restratergy-manager-home-universal\">HR and Restratergy Manager at Kenya's Leading Real Estate Consortium</a>,\n",
              " <a href=\"/cp/ict-jobs-nairobi\" title=\"ICT Jobs in Nairobi 2022\">ICT Jobs in Nairobi 2022</a>,\n",
              " <a href=\"/cp/data-entry-online-jobs-kenya\" title=\"Data Entry Online Jobs in Kenya 2022\">Data Entry Online Jobs in Kenya 2022</a>,\n",
              " <a href=\"/cp/it-jobs-nairobi\" title=\"IT Jobs in Nairobi 2022\">IT Jobs in Nairobi 2022</a>,\n",
              " <a href=\"/jobs-location/nairobi\" title=\"Jobs in Nairobi\">Jobs in Nairobi</a>,\n",
              " <a href=\"/jobs-location/mombasa\" title=\"Jobs in Mombasa\">Jobs in Mombasa</a>,\n",
              " <a href=\"/jobs-location/baringo\" title=\"Jobs in Baringo\">Jobs in Baringo</a>,\n",
              " <a href=\"/jobs-location/bomet\" title=\"Jobs in Bomet\">Jobs in Bomet</a>,\n",
              " <a href=\"/jobs-location/bungoma\" title=\"Jobs in Bungoma\">Jobs in Bungoma</a>,\n",
              " <a href=\"/jobs-location/eldoret\" title=\"Jobs in Eldoret\">Jobs in Eldoret</a>,\n",
              " <a href=\"/jobs-location/busia\" title=\"Jobs in Busia\">Jobs in Busia</a>,\n",
              " <a href=\"/jobs-location/chuka\" title=\"Jobs in Chuka\">Jobs in Chuka</a>,\n",
              " <a href=\"/jobs-location\" id=\"view-all\" title=\"Search jobs by location\">Search jobs by location</a>,\n",
              " <a href=\"/jobs-by-education/fslc\" title=\"First School Leaving Certificate Jobs\">First School Leaving Certificate Jobs</a>,\n",
              " <a href=\"/jobs-by-education/nce\" title=\"NCE Jobs\">NCE Jobs</a>,\n",
              " <a href=\"/jobs-by-education/bsc\" title=\"BA/BSc/HND Jobs\">BA/BSc/HND Jobs</a>,\n",
              " <a href=\"/jobs-by-education/msc\" title=\"MBA/MSc/MA Jobs\">MBA/MSc/MA Jobs</a>,\n",
              " <a href=\"/jobs-by-education/phd\" title=\"PhD/Fellowship Jobs\">PhD/Fellowship Jobs</a>,\n",
              " <a href=\"/jobs-by-education/diploma\" title=\"Diploma Jobs\">Diploma Jobs</a>,\n",
              " <a href=\"/jobs-by-education/vocation\" title=\"Vocational Jobs\">Vocational Jobs</a>,\n",
              " <a href=\"/jobs-by-education/kcse\" title=\"KCSE Jobs\">KCSE Jobs</a>,\n",
              " <a href=\"/jobs-by-education\" id=\"view-all\" title=\"Search jobs by qualification\">Search jobs by qualification</a>,\n",
              " <a href=\"/jobs-by-field/engineering\" title=\"Engineering / Technical Jobs\">Engineering / Technical Jobs</a>,\n",
              " <a href=\"/jobs-by-field/medical\" title=\"Medical / Healthcare Jobs\">Medical / Healthcare Jobs</a>,\n",
              " <a href=\"/jobs-by-field/administration\" title=\"Administration / Secretarial Jobs\">Administration / Secretarial Jobs</a>,\n",
              " <a href=\"/jobs-by-field/sales-marketing\" title=\"Sales / Marketing / Retail / Business Development Jobs\">Sales / Marketing / Retail / Business Development Jobs</a>,\n",
              " <a href=\"/jobs-by-field/agriculture\" title=\"Agriculture / Agro-Allied Jobs\">Agriculture / Agro-Allied Jobs</a>,\n",
              " <a href=\"/jobs-by-field/building-and-construction\" title=\"Building and Construction Jobs\">Building and Construction Jobs</a>,\n",
              " <a href=\"/jobs-by-field/aviation\" title=\"Aviation / Airline Jobs\">Aviation / Airline Jobs</a>,\n",
              " <a href=\"/jobs-by-field/banking\" title=\"Banking Jobs\">Banking Jobs</a>,\n",
              " <a href=\"/jobs-by-field\" id=\"view-all\" title=\"Search jobs by field\">Search jobs by field</a>,\n",
              " <a href=\"/jobs-region/rift-valley\" title=\"Jobs in Rift Valley\">Jobs in Rift Valley</a>,\n",
              " <a href=\"/jobs-region/western\" title=\"Jobs in Western\">Jobs in Western</a>,\n",
              " <a href=\"/jobs-region/eastern\" title=\"Jobs in Eastern\">Jobs in Eastern</a>,\n",
              " <a href=\"/jobs-region/north-eastern\" title=\"Jobs in North Eastern\">Jobs in North Eastern</a>,\n",
              " <a href=\"/jobs-region/nyanza\" title=\"Jobs in Nyanza\">Jobs in Nyanza</a>,\n",
              " <a href=\"/jobs-region/nairobi\" title=\"Jobs in Nairobi\">Jobs in Nairobi</a>,\n",
              " <a href=\"/jobs-region/central\" title=\"Jobs in Central\">Jobs in Central</a>,\n",
              " <a href=\"/jobs-region/coast\" title=\"Jobs in Coast\">Jobs in Coast</a>,\n",
              " <a href=\"/jobs-by-industry/engineering\" title=\"Engineering / Technical Jobs\">Engineering / Technical Jobs</a>,\n",
              " <a href=\"/jobs-by-industry/medical\" title=\"Healthcare / Medical Jobs\">Healthcare / Medical Jobs</a>,\n",
              " <a href=\"/jobs-by-industry/creative\" title=\"Creative / Arts Jobs\">Creative / Arts Jobs</a>,\n",
              " <a href=\"/jobs-by-industry/education\" title=\"Education / Teaching Jobs\">Education / Teaching Jobs</a>,\n",
              " <a href=\"/jobs-by-industry/oil-and-gas\" title=\"Oil and Gas / Marine Jobs\">Oil and Gas / Marine Jobs</a>,\n",
              " <a href=\"/jobs-by-industry/agriculture\" title=\"Agriculture / Agro-Allied Jobs\">Agriculture / Agro-Allied Jobs</a>,\n",
              " <a href=\"/jobs-by-industry/manufacturing\" title=\"Manufacturing / Production / FMCG Jobs\">Manufacturing / Production / FMCG Jobs</a>,\n",
              " <a href=\"/jobs-by-industry/broadcasting\" title=\"Media / Radio / TV Jobs\">Media / Radio / TV Jobs</a>,\n",
              " <a href=\"/jobs-by-industry\" id=\"view-all\">Search jobs by industry</a>,\n",
              " <a href=\"/jobs-by-title/accountant\" title=\"Accountant Jobs\">Accountant Jobs</a>,\n",
              " <a href=\"/jobs-by-title/sales-executive\" title=\"Sales Executive Jobs\">Sales Executive Jobs</a>,\n",
              " <a href=\"/jobs-by-title/business-development-manager\" title=\"Business Development Manager Jobs\">Business Development Manager Jobs</a>,\n",
              " <a href=\"/jobs-by-title/driver\" title=\"Driver Jobs\">Driver Jobs</a>,\n",
              " <a href=\"/jobs-by-title/finance-manager\" title=\"Finance Manager Jobs\">Finance Manager Jobs</a>,\n",
              " <a href=\"/jobs-by-title/project-manager\" title=\" Project Manager Jobs\"> Project Manager Jobs</a>,\n",
              " <a href=\"/jobs-by-title/internal-auditor\" title=\"Internal Auditor Jobs\">Internal Auditor Jobs</a>,\n",
              " <a href=\"/jobs-by-title/sales-manager\" title=\"Sales Manager Jobs\">Sales Manager Jobs</a>,\n",
              " <a href=\"/job-titles\" id=\"view-all\" title=\"Search jobs by title\">Search jobs by title</a>,\n",
              " <a href=\"/jobs-by-type/contract\" title=\"Contract Jobs\">Contract Jobs</a>,\n",
              " <a href=\"/jobs-by-type/full-time\" title=\"Full Time Jobs\">Full Time Jobs</a>,\n",
              " <a href=\"/jobs-by-type/part-time\" title=\"Part Time Jobs\">Part Time Jobs</a>,\n",
              " <a href=\"/jobs-by-type/expatriate\" title=\"Expatriate Jobs\">Expatriate Jobs</a>,\n",
              " <a href=\"/jobs-by-type/remote\" title=\"Remote Jobs\">Remote Jobs</a>,\n",
              " <a href=\"/jobs-by-date/today\" title=\"Today Jobs\">Today Jobs</a>,\n",
              " <a href=\"/jobs-by-date/yesterday\" title=\"Yesterday Jobs\">Yesterday Jobs</a>,\n",
              " <a href=\"/jobs-by-date/this-week\" title=\"This Week Jobs\">This Week Jobs</a>,\n",
              " <a href=\"/jobs-by-date/last-week\" title=\"Last Week Jobs\">Last Week Jobs</a>,\n",
              " <a href=\"/jobs-by-date/this-month\" title=\"This Month Jobs\">This Month Jobs</a>,\n",
              " <a href=\"/jobs-by-date/last-month\" title=\"Last Month Jobs\">Last Month Jobs</a>,\n",
              " <a href=\"/blog/increase-your-visibility-get-a-job-in-kenya-faster-with-a-complete-profile\">Increase your visibility: Get a Job in Kenya Faster with A Complete Profile</a>,\n",
              " <a href=\"/blog/how-to-find-the-best-company-to-work-for-in-kenya\">How to Find the Best Company to Work for in Kenya</a>,\n",
              " <a href=\"/blog/top-companies-recruiting-this-week-5\">Top Companies Recruiting This Week</a>,\n",
              " <a href=\"/blog/register-for-myjobmag-social-media-training-course-tricks-and-tips-of-landing-a-job-through-social-media\">Register for MyJobMag Social Media Training Course (Tricks and Tips of Landing a Job through Social Media)</a>,\n",
              " <a class=\"view-all-post\" href=\"/blog\">View All Career Advice</a>,\n",
              " <a href=\"/\" target=\"_blank\">Job Listing</a>,\n",
              " <a href=\"https://www.mysalaryscale.com/ke\" target=\"_blank\">Salaries &amp; Reviews</a>,\n",
              " <a href=\"/internship/\" target=\"_blank\">Internship</a>,\n",
              " <a href=\"/blog\" target=\"_blank\">Career Tips &amp; Info</a>,\n",
              " <a href=\"/course\" target=\"_blank\">Training</a>,\n",
              " <a href=\"/employers/\" target=\"_blank\">Post a Job</a>,\n",
              " <a href=\"/shortlist\" target=\"_blank\">Shortlisting Service</a>,\n",
              " <a href=\"/recruitment\" target=\"_blank\">Recruitment Service</a>,\n",
              " <a href=\"/advertise\" target=\"_blank\">Advertise</a>,\n",
              " <a href=\"/widget/feed-widget\">Job Widget</a>,\n",
              " <a href=\"/feeds/\">XML Feed</a>,\n",
              " <a href=\"/sitemap\">Sitemap (HTML)</a>,\n",
              " <a href=\"/testimonies\">Testimonials</a>,\n",
              " <a href=\"/faq\">Help - FAQs</a>,\n",
              " <a class=\"\" href=\"https://www.facebook.com/myjobmag.co.ke\" id=\"social-facebook\" rel=\"nofollow\" target=\"_blank\"></a>,\n",
              " <a class=\"\" href=\"https://twitter.com/MyjobmagKenya\" id=\"social-twitter\" rel=\"nofollow\" target=\"_blank\"></a>,\n",
              " <a class=\"\" href=\"https://www.linkedin.com/company/11093105/\" id=\"social-linkedin\" rel=\"nofollow\" target=\"_blank\"></a>,\n",
              " <a href=\"https://www.myjobmagghana.com\">Jobs in Ghana</a>,\n",
              " <a href=\"https://www.myjobmag.co.ke\">Jobs in Kenya</a>,\n",
              " <a href=\"https://www.myjobmag.com\">Jobs in Nigeria</a>,\n",
              " <a href=\"https://www.myjobmag.co.za\">Jobs in South Africa</a>,\n",
              " <a href=\"/about\" target=\"_blank\">About Us</a>,\n",
              " <a href=\"/contact\" target=\"_blank\">Contact Us</a>,\n",
              " <a href=\"/privacy\" target=\"_blank\">Privacy Policy</a>,\n",
              " <a href=\"/terms\" target=\"_blank\">Terms of Use</a>,\n",
              " <a href=\"/cdn-cgi/l/email-protection#285b4d5a5e414b4d5b68455142474a45494f064b4706434d\" id=\"footer-email\">Email: <b><span class=\"__cf_email__\" data-cfemail=\"aeddcbdcd8c7cdcbddeec3d7c4c1ccc3cfc980cdc180c5cb\">[email protected]</span></b></a>,\n",
              " <a href=\"/\" style=\"border-right-style:none\">MyJobMagKenya</a>,\n",
              " <a class=\"js-cd-top\" href=\"#0\" id=\"scroll-to-top\"> </a>]"
            ]
          },
          "metadata": {},
          "execution_count": 17
        }
      ]
    },
    {
      "cell_type": "code",
      "metadata": {
        "id": "I0fQKn63QV0R",
        "colab": {
          "base_uri": "https://localhost:8080/"
        },
        "outputId": "20395d8b-4329-4f99-ceb5-f343147abc8b"
      },
      "source": [
        "# 3. Extracting job titles: kenya_job\n",
        "# ---\n",
        "#<a href=\"/job-vacancies-kenya/associate-sales-development-representative-amer-92776\n",
        "pattern =r\"^\\/job-vacancies-kenya\\/.*\"\n",
        "import re\n",
        "kj_results = soup_kj.find_all('a', {'href' :pattern})\n",
        "kj_results"
      ],
      "execution_count": null,
      "outputs": [
        {
          "output_type": "execute_result",
          "data": {
            "text/plain": [
              "[]"
            ]
          },
          "metadata": {},
          "execution_count": 15
        }
      ]
    },
    {
      "cell_type": "markdown",
      "metadata": {
        "id": "7ePXABAihaKn"
      },
      "source": [
        "## <font color='#2F4F4F'>Step 4: Saving our Data</font>"
      ]
    },
    {
      "cell_type": "code",
      "metadata": {
        "id": "fsG9pQXk5f8y",
        "colab": {
          "base_uri": "https://localhost:8080/",
          "height": 206
        },
        "outputId": "9db77928-264b-483d-82aa-42e91234cc6f"
      },
      "source": [
        "# Saving the scraped contents in a dataframe and preview our data\n",
        "# ---\n",
        "#\n",
        "df = pd.DataFrame({\"job_titles\": job_titles, \"job_links\": job_links})\n",
        "df.head()"
      ],
      "execution_count": null,
      "outputs": [
        {
          "output_type": "execute_result",
          "data": {
            "text/html": [
              "<div>\n",
              "<style scoped>\n",
              "    .dataframe tbody tr th:only-of-type {\n",
              "        vertical-align: middle;\n",
              "    }\n",
              "\n",
              "    .dataframe tbody tr th {\n",
              "        vertical-align: top;\n",
              "    }\n",
              "\n",
              "    .dataframe thead th {\n",
              "        text-align: right;\n",
              "    }\n",
              "</style>\n",
              "<table border=\"1\" class=\"dataframe\">\n",
              "  <thead>\n",
              "    <tr style=\"text-align: right;\">\n",
              "      <th></th>\n",
              "      <th>job_titles</th>\n",
              "      <th>job_links</th>\n",
              "    </tr>\n",
              "  </thead>\n",
              "  <tbody>\n",
              "    <tr>\n",
              "      <th>0</th>\n",
              "      <td>Mobile Application and Java Development Intern</td>\n",
              "      <td>https://www.pigiame.co.ke/listings/mobile-appl...</td>\n",
              "    </tr>\n",
              "    <tr>\n",
              "      <th>1</th>\n",
              "      <td>Data Modelling/Data Analyst</td>\n",
              "      <td>https://www.pigiame.co.ke/listings/data-modell...</td>\n",
              "    </tr>\n",
              "    <tr>\n",
              "      <th>2</th>\n",
              "      <td>Entry Level Accessibility Tester</td>\n",
              "      <td>https://www.pigiame.co.ke/listings/entry-level...</td>\n",
              "    </tr>\n",
              "    <tr>\n",
              "      <th>3</th>\n",
              "      <td>Network  Technician for Public Wifi Hotspot</td>\n",
              "      <td>https://www.pigiame.co.ke/listings/network-tec...</td>\n",
              "    </tr>\n",
              "    <tr>\n",
              "      <th>4</th>\n",
              "      <td>SENIOR OPENMRS/REACTJS DEVELOPER, HISTAC PROJECT</td>\n",
              "      <td>https://www.pigiame.co.ke/listings/senior-open...</td>\n",
              "    </tr>\n",
              "  </tbody>\n",
              "</table>\n",
              "</div>"
            ],
            "text/plain": [
              "                                         job_titles                                          job_links\n",
              "0    Mobile Application and Java Development Intern  https://www.pigiame.co.ke/listings/mobile-appl...\n",
              "1                       Data Modelling/Data Analyst  https://www.pigiame.co.ke/listings/data-modell...\n",
              "2                  Entry Level Accessibility Tester  https://www.pigiame.co.ke/listings/entry-level...\n",
              "3       Network  Technician for Public Wifi Hotspot  https://www.pigiame.co.ke/listings/network-tec...\n",
              "4  SENIOR OPENMRS/REACTJS DEVELOPER, HISTAC PROJECT  https://www.pigiame.co.ke/listings/senior-open..."
            ]
          },
          "metadata": {},
          "execution_count": 22
        }
      ]
    }
  ]
}